{
 "cells": [
  {
   "cell_type": "code",
   "execution_count": 1,
   "metadata": {},
   "outputs": [
    {
     "name": "stdout",
     "output_type": "stream",
     "text": [
      "Choose - R for Rock, P for Paper , S for Scissor , EXIT to Quit the Game \n",
      "Choose your Weapon - [R]ock, [P]aper, [S]cissor s\n",
      "\n",
      "You Choose -  S\n",
      "I choose R\n",
      "Rock beat Scissor - I Win!!!\n",
      "Choose - R for Rock, P for Paper , S for Scissor , EXIT to Quit the Game \n",
      "Choose your Weapon - [R]ock, [P]aper, [S]cissor r\n",
      "\n",
      "You Choose -  R\n",
      "I choose R\n",
      "It's a Tie!!!\n",
      "Choose - R for Rock, P for Paper , S for Scissor , EXIT to Quit the Game \n",
      "Choose your Weapon - [R]ock, [P]aper, [S]cissor p\n",
      "\n",
      "You Choose -  P\n",
      "I choose P\n",
      "It's a Tie!!!\n",
      "Choose - R for Rock, P for Paper , S for Scissor , EXIT to Quit the Game \n",
      "Choose your Weapon - [R]ock, [P]aper, [S]cissor r\n",
      "\n",
      "You Choose -  R\n",
      "I choose R\n",
      "It's a Tie!!!\n",
      "Choose - R for Rock, P for Paper , S for Scissor , EXIT to Quit the Game \n",
      "Choose your Weapon - [R]ock, [P]aper, [S]cissor s\n",
      "\n",
      "You Choose -  S\n",
      "I choose P\n",
      "Scissor beat Paper - You Win!!!\n",
      "Choose - R for Rock, P for Paper , S for Scissor , EXIT to Quit the Game \n",
      "Choose your Weapon - [R]ock, [P]aper, [S]cissor exit\n"
     ]
    }
   ],
   "source": [
    "import random\n",
    "import re\n",
    "\n",
    "## user Input\n",
    "while True:\n",
    "    \n",
    "    print(\"Choose - R for Rock, P for Paper , S for Scissor , EXIT to Quit the Game \")\n",
    "    user_choice = str.upper(input(\"Choose your Weapon - [R]ock, [P]aper, [S]cissor \"))\n",
    "    \n",
    "    if user_choice == 'EXIT':\n",
    "        break\n",
    "        \n",
    "    if not re.match(\"[RPS]\", user_choice):\n",
    "        print(\"Please Enter a Valid Letter\")\n",
    "        print(\"\\nChoose - R for Rock, P for Paper , S for Scissor, EXIT to Quit the Game \")\n",
    "    print(\"\\nYou Choose - \", user_choice)\n",
    "    \n",
    "    ## Computer input\n",
    "    Choices = ['R', 'S', 'P']\n",
    "    computer_choice = random.choice(Choices)\n",
    "    print(\"I choose \"+computer_choice)\n",
    "    if computer_choice == user_choice:\n",
    "        print(\"It's a Tie!!!\")\n",
    "    elif computer_choice == 'R' and user_choice == 'P':\n",
    "        print(\"Paper beat Rock - You Win!!!\")\n",
    "    elif computer_choice == 'P' and user_choice == 'R':\n",
    "        print(\"Paper beat Rock - I Win!!!\")\n",
    "    elif computer_choice == 'R' and user_choice == 'S':\n",
    "        print(\"Rock beat Scissor - I Win!!!\")\n",
    "    elif computer_choice == 'S' and user_choice == 'R':\n",
    "        print(\"Rock beat Scissor - You Win!!!\")\n",
    "    elif computer_choice == 'P' and user_choice == 'S':\n",
    "        print(\"Scissor beat Paper - You Win!!!\")\n",
    "    else:\n",
    "        print(\"Scissor beat Paper - I Win!!!\")"
   ]
  },
  {
   "cell_type": "code",
   "execution_count": null,
   "metadata": {},
   "outputs": [],
   "source": []
  },
  {
   "cell_type": "code",
   "execution_count": null,
   "metadata": {},
   "outputs": [],
   "source": []
  }
 ],
 "metadata": {
  "kernelspec": {
   "display_name": "Python 3",
   "language": "python",
   "name": "python3"
  },
  "language_info": {
   "codemirror_mode": {
    "name": "ipython",
    "version": 3
   },
   "file_extension": ".py",
   "mimetype": "text/x-python",
   "name": "python",
   "nbconvert_exporter": "python",
   "pygments_lexer": "ipython3",
   "version": "3.8.5"
  }
 },
 "nbformat": 4,
 "nbformat_minor": 4
}
