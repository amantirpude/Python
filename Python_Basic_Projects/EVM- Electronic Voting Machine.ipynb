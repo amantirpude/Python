{
 "cells": [
  {
   "cell_type": "code",
   "execution_count": null,
   "metadata": {},
   "outputs": [
    {
     "name": "stdout",
     "output_type": "stream",
     "text": [
      "Enter Nomine-1 Name for BJPm\n",
      "Enter Nomine-2 Name for TMCd\n",
      "Enter your voter id1\n",
      "You are a Voter Candidate\n",
      "Enter Your Vote - 1 for BJP, 2 for TMC and 3 for NOTA1\n",
      "============== Thank Your for Voting============\n",
      "1\n",
      "Enter your voter id2\n",
      "You are a Voter Candidate\n",
      "Enter Your Vote - 1 for BJP, 2 for TMC and 3 for NOTA1\n",
      "============== Thank Your for Voting============\n",
      "2\n",
      "Enter your voter id3\n",
      "You are a Voter Candidate\n",
      "Enter Your Vote - 1 for BJP, 2 for TMC and 3 for NOTA1\n",
      "============== Thank Your for Voting============\n",
      "3\n"
     ]
    }
   ],
   "source": [
    "#### Nominee List\n",
    "nominee_1 = input(\"Enter Nomine-1 Name for BJP\")\n",
    "nominee_2 = input(\"Enter Nomine-2 Name for TMC\")\n",
    "\n",
    "BJP = 0\n",
    "TMC = 0\n",
    "\n",
    "#### List of ID of all voters\n",
    "voters_id = [1,2,3,4,5,6,7,8,9,10]\n",
    "\n",
    "number_of_voters = len(voters_id)\n",
    "\n",
    "while True:\n",
    "    if voters_id == []:\n",
    "        print(\"Voting Session is over\") ###after voters id list gets over\n",
    "        if BJP>TMC:\n",
    "            percentage = ((BJP-TMC)/(BJP+TMC))*100  ## if BJP won\n",
    "            print(\"{} has won the Election by {}%\".format(nominee_1,percentage))\n",
    "            break\n",
    "        elif TMC>BJP:\n",
    "            percentage = ((TMC-BJP)/(BJP+TMC))*100  ### if TMC won\n",
    "            print(\"{} has won the Election by {}%\".format(nominee_2,percentage))\n",
    "            break\n",
    "        elif TMC==BJP:   ## if both have same votes\n",
    "            print(\"It's a Tie between {} and {}\".format(nominee_1,nominee_2))\n",
    "            break\n",
    "            \n",
    "    else:\n",
    "        voter = int(input(\"Enter your voter id\")) ## input the voter id\n",
    "        if voter in voters_id:\n",
    "            print(\"You are a Voter Candidate\")\n",
    "            voters_id.remove(voter)  ### voter is removed from the list after giving a vote\n",
    "            while True:\n",
    "                vote = int(input(\"Enter Your Vote - 1 for BJP, 2 for TMC and 3 for NOTA\"))  ### voting\n",
    "                if vote == 1:\n",
    "                        BJP+=1\n",
    "                        print(\"============== Thank Your for Voting============\")\n",
    "                        break\n",
    "                elif vote == 2:\n",
    "                        TMC+=1\n",
    "                        print(\"============== Thank Your for Voting============\")\n",
    "                        break\n",
    "                elif vote == 3:\n",
    "                        print(\"============== Thank Your for Voting============\")\n",
    "                        break\n",
    "                else:\n",
    "                    print(\"Not a Valid vote\")\n",
    "\n",
    "        else:\n",
    "            print(\"You are not a voting candidate or your voting is over\")\n"
   ]
  },
  {
   "cell_type": "code",
   "execution_count": null,
   "metadata": {},
   "outputs": [],
   "source": []
  }
 ],
 "metadata": {
  "kernelspec": {
   "display_name": "Python 3",
   "language": "python",
   "name": "python3"
  },
  "language_info": {
   "codemirror_mode": {
    "name": "ipython",
    "version": 3
   },
   "file_extension": ".py",
   "mimetype": "text/x-python",
   "name": "python",
   "nbconvert_exporter": "python",
   "pygments_lexer": "ipython3",
   "version": "3.8.5"
  }
 },
 "nbformat": 4,
 "nbformat_minor": 4
}
