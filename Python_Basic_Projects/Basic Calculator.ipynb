{
 "cells": [
  {
   "cell_type": "code",
   "execution_count": 14,
   "metadata": {},
   "outputs": [
    {
     "name": "stdout",
     "output_type": "stream",
     "text": [
      "Enter the first number 58\n",
      "Enter the second number 4\n",
      "\n",
      "Please choose an option\n",
      "1 == +\n",
      "2 == -\n",
      "3 == *\n",
      "4 == /\n",
      "5 == **(square)\n",
      "6 == %\n",
      "\n",
      "Enter Here 6\n",
      "\n",
      "Remainder  2\n"
     ]
    }
   ],
   "source": [
    "a = int(input(\"Enter the first number \"))\n",
    "b= int(input(\"Enter the second number \"))\n",
    "print(\"\"\"\n",
    "Please choose an option\n",
    "1 == +\n",
    "2 == -\n",
    "3 == *\n",
    "4 == /\n",
    "5 == **(square)\n",
    "6 == %\n",
    "\"\"\")\n",
    "option = int(input(\"Enter Here \"))\n",
    "\n",
    "if option == 1:\n",
    "    print(\"\\nAddition \", a+b)\n",
    "elif option == 2:\n",
    "    print(\"\\nSubtraction \",a-b)\n",
    "elif option == 3:\n",
    "    print(\"\\nMultiplication \", a*b)\n",
    "elif option == 4:\n",
    "    print(\"\\nDivision \", a/b)\n",
    "elif option == 5:\n",
    "    print(\"\\nSquare \", a**2, b**2)\n",
    "elif option == 6:\n",
    "    print(\"\\nRemainder \", a%b)\n",
    "else:\n",
    "    \"Enter valid Option\""
   ]
  },
  {
   "cell_type": "code",
   "execution_count": null,
   "metadata": {},
   "outputs": [],
   "source": []
  }
 ],
 "metadata": {
  "kernelspec": {
   "display_name": "Python 3",
   "language": "python",
   "name": "python3"
  },
  "language_info": {
   "codemirror_mode": {
    "name": "ipython",
    "version": 3
   },
   "file_extension": ".py",
   "mimetype": "text/x-python",
   "name": "python",
   "nbconvert_exporter": "python",
   "pygments_lexer": "ipython3",
   "version": "3.8.5"
  }
 },
 "nbformat": 4,
 "nbformat_minor": 4
}
