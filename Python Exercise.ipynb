{
 "cells": [
  {
   "cell_type": "markdown",
   "metadata": {},
   "source": [
    "## Even and Odd Number"
   ]
  },
  {
   "cell_type": "code",
   "execution_count": 8,
   "metadata": {},
   "outputs": [
    {
     "name": "stdout",
     "output_type": "stream",
     "text": [
      "Enter any Integer value: 12\n",
      "The Number is Even\n"
     ]
    }
   ],
   "source": [
    "num = int(input(\"Enter any Integer value: \"))\n",
    "if num % 2 == 0:\n",
    "    print(\"The Number is Even\")\n",
    "else:\n",
    "    print(\"The Number is Odd\")"
   ]
  },
  {
   "cell_type": "markdown",
   "metadata": {},
   "source": [
    "## Dog's age in Human years"
   ]
  },
  {
   "cell_type": "code",
   "execution_count": 1,
   "metadata": {},
   "outputs": [
    {
     "name": "stdout",
     "output_type": "stream",
     "text": [
      "Enter the Dog's age in Human Years: 4.5\n",
      "Dog's Age in Dog's Years 32.4\n"
     ]
    }
   ],
   "source": [
    "## For the first year, one dog year is equal to 15 human years\n",
    "\n",
    "## For the first 2 years, each dog year is equal to 12 human years\n",
    "\n",
    "## For the first 3 years, each dog year is equal to 9.3 human years\n",
    "\n",
    "## For the first 4 years, each dog year is equal to 8 human years\n",
    "\n",
    "## For the first 5 years, each dog year is equal to 7.2 human years\n",
    "\n",
    "h_age = float(input(\"Enter the Dog's age in Human Years: \"))\n",
    "if h_age < 0:\n",
    "    print(\"Enter the Positive age\")\n",
    "if 0 < h_age <= 1:\n",
    "    d_age = h_age*15\n",
    "    print(\"Dog's Age in Dog's Years\", d_age)\n",
    "elif 1 < h_age <= 2:\n",
    "    d_age = h_age *12\n",
    "    print(\"Dog's Age in Dog's Years\", d_age)\n",
    "elif 2 < h_age <= 3:\n",
    "    d_age = h_age *9.3\n",
    "    print(\"Dog's Age in Dog's Years\", d_age)\n",
    "elif 3 < h_age <= 4:\n",
    "    d_age = h_age * 8\n",
    "    print(\"Dog's Age in Dog's Years\", d_age)\n",
    "elif 4 < h_age <=5:\n",
    "    d_age = h_age * 7.2\n",
    "    print(\"Dog's Age in Dog's Years\", d_age)\n",
    "else:\n",
    "    d_age = h_age * 7\n",
    "    print(\"Dog's Age in Dog's Years\", d_age)"
   ]
  },
  {
   "cell_type": "markdown",
   "metadata": {},
   "source": [
    "## Read Alphabets"
   ]
  },
  {
   "cell_type": "code",
   "execution_count": 7,
   "metadata": {},
   "outputs": [
    {
     "name": "stdout",
     "output_type": "stream",
     "text": [
      "Enter any letter from A-Z: A\n",
      "a is a Vowel\n"
     ]
    }
   ],
   "source": [
    "Alpha = input(\"Enter any letter from A-Z: \").lower()\n",
    "vowels = (\"a\", \"e\", \"i\", \"o\", \"u\")\n",
    "if Alpha in vowels:\n",
    "    print(Alpha, \"is a Vowel\")\n",
    "elif Alpha == \"y\":\n",
    "    print(\"sometimes y is a vowel, and sometimes y is a consonant\")\n",
    "else:\n",
    "    print(Alpha, \"is Consonant\")"
   ]
  },
  {
   "cell_type": "markdown",
   "metadata": {},
   "source": [
    "## Name of Shape From its sides number"
   ]
  },
  {
   "cell_type": "code",
   "execution_count": 2,
   "metadata": {},
   "outputs": [
    {
     "name": "stdout",
     "output_type": "stream",
     "text": [
      "Enter the Number of sides from 3-10: 6\n",
      "The shape is Hexagon\n"
     ]
    }
   ],
   "source": [
    "num = int(input(\"Enter the Number of sides from 3-10: \"))\n",
    "def shape():\n",
    "    if num == 3:\n",
    "        return \"Triangle\"\n",
    "    elif num == 4:\n",
    "        return \"Quadrilateral\"\n",
    "    elif num == 5:\n",
    "        return \"Pentagon\"\n",
    "    elif num == 6:\n",
    "        return\"Hexagon\"\n",
    "    elif num == 7:\n",
    "        return \"Heptagon\"\n",
    "    elif num == 8:\n",
    "        return \"Octagon\"\n",
    "    elif num == 9:\n",
    "        return \"Nonagon\"\n",
    "    elif num == 10:\n",
    "        return \"Decagon\"\n",
    "    else:\n",
    "        return \"Unsupported\"\n",
    "print(\"The shape is\", shape())\n",
    "\n",
    "    "
   ]
  },
  {
   "cell_type": "markdown",
   "metadata": {},
   "source": [
    "## Number of Days in a month"
   ]
  },
  {
   "cell_type": "code",
   "execution_count": 5,
   "metadata": {},
   "outputs": [
    {
     "name": "stdout",
     "output_type": "stream",
     "text": [
      "Enter name of the month: March\n",
      "march is having 31 days\n"
     ]
    }
   ],
   "source": [
    "month = input(\"Enter name of the month: \").lower()\n",
    "if month in (\"january\",\"march\", \"may\", \"july\", \"august\", \"october\", \"december\" ):\n",
    "    print(month, \"is having 31 days\")\n",
    "elif month == \"february\":\n",
    "    print(month, \"is having 28 or 29 days\")\n",
    "elif month in (\"april\", \"june\", \"september\", \"november\"):\n",
    "    print(month, \"is having 30 days\")\n",
    "else:\n",
    "    print(\"Enter valid month name\")"
   ]
  },
  {
   "cell_type": "markdown",
   "metadata": {},
   "source": [
    "## Noise using Decibel values"
   ]
  },
  {
   "cell_type": "code",
   "execution_count": 13,
   "metadata": {},
   "outputs": [
    {
     "name": "stdout",
     "output_type": "stream",
     "text": [
      "Enter the value in Decibel: 112.5\n",
      "The noise is in between a Gas Lawnmover and a Jack Hammer\n"
     ]
    }
   ],
   "source": [
    "noise = float(input(\"Enter the value in Decibel: \"))\n",
    "if 0 < noise < 40:\n",
    "    print(\"The noise is less than a  Quiet Room\")\n",
    "elif noise == 40:\n",
    "    print(\"The noise of a Quiet Room\")\n",
    "elif 40 < noise < 70:\n",
    "    print(\"The noise is in between a Quiet Room and Alarm Clock\")\n",
    "elif noise == 70:\n",
    "    print(\"The noise of an Alarm Clock\")\n",
    "elif 70 < noise < 106:\n",
    "    print(\"The noise is in between an Alarm Clock and a Gas Lawnmover\")\n",
    "elif noise == 106:\n",
    "    print(\"The noise of a Gas Lawnmover\")\n",
    "elif 106 < noise < 130:\n",
    "    print(\"The noise is in between a Gas Lawnmover and a Jack Hammer\")\n",
    "elif noise == 130:\n",
    "    print(\"The noise of a Jack Hammer\")\n",
    "else:\n",
    "    print(\"Please Enter a Correct Data value\")"
   ]
  },
  {
   "cell_type": "markdown",
   "metadata": {},
   "source": [
    "## Notes to frequencies"
   ]
  },
  {
   "cell_type": "code",
   "execution_count": 3,
   "metadata": {},
   "outputs": [
    {
     "name": "stdout",
     "output_type": "stream",
     "text": [
      "Enter the music note: c8\n",
      "Frequency of C8 is 4186.08\n"
     ]
    }
   ],
   "source": [
    "M_note = input(\"Enter the music note: \").upper()\n",
    "no = int(M_note[1])\n",
    "def music():\n",
    "    if M_note == (f\"C{no}\"):\n",
    "        freq = 261.63/2**(4-no)\n",
    "        return freq\n",
    "    elif M_note == (f\"D{no}\"):\n",
    "        freq = 293.66/2**(4-no)\n",
    "        return freq\n",
    "    elif M_note == (f\"E{no}\"):\n",
    "        freq = 329.63/2**(4-no)\n",
    "        return freq\n",
    "    elif M_note == (f\"F{no}\"):\n",
    "        freq = 349.23/2**(4-no)\n",
    "        return freq\n",
    "    elif M_note == (f\"G{no}\"):\n",
    "        freq = 392.00/2**(4-no)\n",
    "        return freq\n",
    "    elif M_note == (f\"A{no}\"):\n",
    "        freq = 440.00/2**(4-no)\n",
    "    elif M_note == (f\"B{no}\"):\n",
    "        freq = 493.88/2**(4-no)\n",
    "    else:\n",
    "        print(\"Enter a valid music note\")\n",
    "print(f\"Frequency of {M_note} is\", music())"
   ]
  },
  {
   "cell_type": "markdown",
   "metadata": {},
   "source": [
    "## Frequency to Notes"
   ]
  },
  {
   "cell_type": "code",
   "execution_count": 3,
   "metadata": {},
   "outputs": [
    {
     "name": "stdout",
     "output_type": "stream",
     "text": [
      "Enter the Frequency261.25\n",
      "C4\n"
     ]
    }
   ],
   "source": [
    "freq = float(input(\"Enter the Frequency: \"))\n",
    "if (261.63-0.5)<= freq <= (261.63+0.5):\n",
    "    print(\"C4\")\n",
    "elif (293.66-0.5) <= freq <= (293.66+0.5):\n",
    "    print(\"D4\")\n",
    "elif (329.63-0.5) <= freq <= (329.63+0.5):\n",
    "    print(\"E4\")\n",
    "elif (349.23-0.5) <=freq <= (349.23+0.5):\n",
    "    print(\"F4\")\n",
    "elif (392-0.5) <= freq <= (392+0.5):\n",
    "    print(\"G4\")\n",
    "elif (440-0.5) <= freq <= (440+0.5):\n",
    "    print(\"A4\")\n",
    "elif (493.88-0.5) <= freq <= (493.88+0.5):\n",
    "    print(\"B4\")\n",
    "else:\n",
    "    print(\"The Frequency does not corresponds to a known note\")\n",
    "        "
   ]
  },
  {
   "cell_type": "markdown",
   "metadata": {},
   "source": [
    "## Wavelength to color"
   ]
  },
  {
   "cell_type": "code",
   "execution_count": 5,
   "metadata": {},
   "outputs": [
    {
     "name": "stdout",
     "output_type": "stream",
     "text": [
      "Enter the wavelength: 423\n",
      "The color for wavelength of 423.0nm is Violet\n"
     ]
    }
   ],
   "source": [
    "wave = float(input(\"Enter the wavelength: \"))\n",
    "def color():\n",
    "    if 380 <= wave < 450:\n",
    "        return \"Violet\"\n",
    "    elif 450 <= wave < 495:\n",
    "        return \"Blue\"\n",
    "    elif 495<= wave < 570:\n",
    "        return \"Green\"\n",
    "    elif 570 <= wave <590:\n",
    "        return \"Yellow\"\n",
    "    elif 590 <= wave < 620:\n",
    "        return \"Orange\"\n",
    "    elif 620 <= wave <= 750:\n",
    "        return \"Red\"\n",
    "    else:\n",
    "        print(\"The wavelength does not corresponds to any color\")\n",
    "print(f\"The color for wavelength of {wave}nm is\", color())"
   ]
  },
  {
   "cell_type": "code",
   "execution_count": 1,
   "metadata": {},
   "outputs": [
    {
     "name": "stdout",
     "output_type": "stream",
     "text": [
      "\n",
      "Enter Number of values you want to Enter: 3\n",
      "\n",
      "Number of Values should be greater than 4\n",
      "\n",
      "Enter Number of values you want to Enter: 4\n",
      "\n",
      " Enter Element 1 : 12\n",
      "\n",
      " Enter Element 2 : 12\n",
      "\n",
      " Enter Element 3 : 15\n",
      "\n",
      " Enter Element 4 : 18\n",
      "\n",
      "Original Experiment List :  ['12', '12', '15', '18']\n",
      "\n",
      "New Experiment List without outliers:  ['12', '15']\n"
     ]
    }
   ],
   "source": [
    "exp_list =[]\n",
    "while True:\n",
    "    value_count = int(input(\"\\nEnter Number of values you want to Enter: \"))\n",
    "    if value_count < 4:\n",
    "        print(\"\\nNumber of Values should be greater than 4\")\n",
    "    else:\n",
    "        for i in range(value_count):\n",
    "            element = input(f'\\n Enter Element {i + 1} : ')\n",
    "            exp_list.append(element)   \n",
    "\n",
    "        new_list = exp_list.copy()\n",
    "        new_list.remove(max(new_list))\n",
    "        new_list.remove(min(new_list))\n",
    "        print(\"\\nOriginal Experiment List : \", exp_list)\n",
    "\n",
    "        print(\"\\nNew Experiment List without outliers: \", new_list)\n",
    "        break"
   ]
  },
  {
   "cell_type": "markdown",
   "metadata": {},
   "source": [
    "## Sentence to Words of List  "
   ]
  },
  {
   "cell_type": "code",
   "execution_count": 25,
   "metadata": {},
   "outputs": [
    {
     "name": "stdout",
     "output_type": "stream",
     "text": [
      "Enter any Sentence: my name is aman't\n",
      "['my', 'name', 'is', \"aman't\"]\n"
     ]
    }
   ],
   "source": [
    "words = \"\"\n",
    "punctuations = '''!()-[]{};:\"\\,<>./?@#$%^&*_~'''\n",
    "sent = input(\"Enter any Sentence: \")\n",
    "for i in sent:\n",
    "    if i not in punctuations:\n",
    "        words = words + i\n",
    "print(words.split())"
   ]
  },
  {
   "cell_type": "code",
   "execution_count": null,
   "metadata": {},
   "outputs": [],
   "source": []
  }
 ],
 "metadata": {
  "kernelspec": {
   "display_name": "Python 3",
   "language": "python",
   "name": "python3"
  },
  "language_info": {
   "codemirror_mode": {
    "name": "ipython",
    "version": 3
   },
   "file_extension": ".py",
   "mimetype": "text/x-python",
   "name": "python",
   "nbconvert_exporter": "python",
   "pygments_lexer": "ipython3",
   "version": "3.8.5"
  }
 },
 "nbformat": 4,
 "nbformat_minor": 4
}
